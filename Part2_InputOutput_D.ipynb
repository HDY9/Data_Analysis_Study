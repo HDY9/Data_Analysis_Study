{
 "cells": [
  {
   "cell_type": "markdown",
   "id": "1cdeb696",
   "metadata": {},
   "source": [
    "#### 1. 외부 파일 읽어오기"
   ]
  },
  {
   "cell_type": "markdown",
   "id": "56e1baae",
   "metadata": {},
   "source": [
    "###### CSV 파일 -> 데이터프레임 : pandas.read_csv('파일 경로(이름)')"
   ]
  },
  {
   "cell_type": "code",
   "execution_count": 4,
   "id": "c9a11ccd",
   "metadata": {},
   "outputs": [],
   "source": [
    "import os"
   ]
  },
  {
   "cell_type": "code",
   "execution_count": 7,
   "id": "d7344eba",
   "metadata": {},
   "outputs": [
    {
     "data": {
      "text/plain": [
       "'C:\\\\Users\\\\광운MOOC센터\\\\2022 Python Machine_Learning Pandas Data_analysis'"
      ]
     },
     "execution_count": 7,
     "metadata": {},
     "output_type": "execute_result"
    }
   ],
   "source": [
    "os.getcwd()"
   ]
  },
  {
   "cell_type": "code",
   "execution_count": 9,
   "id": "052c991e",
   "metadata": {},
   "outputs": [
    {
     "name": "stdout",
     "output_type": "stream",
     "text": [
      "   c0  c1  c2  c3\n",
      "0   0   1   4   7\n",
      "1   1   2   5   8\n",
      "2   2   3   6   9\n",
      "\n",
      "\n",
      "    0   1   2   3\n",
      "0  c0  c1  c2  c3\n",
      "1   0   1   4   7\n",
      "2   1   2   5   8\n",
      "3   2   3   6   9\n",
      "\n",
      "\n",
      "   c0  c1  c2  c3\n",
      "0   0   1   4   7\n",
      "1   1   2   5   8\n",
      "2   2   3   6   9\n",
      "\n",
      "\n",
      "    c1  c2  c3\n",
      "c0            \n",
      "0    1   4   7\n",
      "1    2   5   8\n",
      "2    3   6   9\n"
     ]
    }
   ],
   "source": [
    "# 라이브러리 불러오기\n",
    "import pandas as pd\n",
    "\n",
    "# 파일 경로를 찾고, 변수 file_path에 저장\n",
    "file_path = 'C:\\\\Users\\\\광운MOOC센터\\\\Desktop\\\\05000266\\\\part2\\\\read_csv_sample.csv'\n",
    "df1 = pd.read_csv(file_path)\n",
    "print(df1)\n",
    "print('\\n')\n",
    "\n",
    "# read_csv() 함수로 데이터프레임 변환. 변수 df2에 저장. header=None 옵션\n",
    "df2 = pd.read_csv(file_path, header=None)\n",
    "print(df2)\n",
    "print('\\n')\n",
    "\n",
    "# read_csv() 함수로 데이터프레임 변환. 변수 df3에 저장. index_col=None 옵션\n",
    "df3 = pd.read_csv(file_path, index_col=None)\n",
    "print(df3)\n",
    "print('\\n')\n",
    "\n",
    "# read_csv() 함수로 데이터프레임 변환. 변수 df4에 저장. index_col='c0' 옵션\n",
    "df4 = pd.read_csv(file_path, index_col='c0')\n",
    "print(df4)"
   ]
  },
  {
   "cell_type": "markdown",
   "id": "ba2acf93",
   "metadata": {},
   "source": [
    "- path : 파일의 위치, URL"
   ]
  },
  {
   "cell_type": "markdown",
   "id": "36eb5e48",
   "metadata": {},
   "source": [
    "- sep(or delimiter) : 텍스트 데이터를 필드별로 구분하는 문자"
   ]
  },
  {
   "cell_type": "markdown",
   "id": "959f6f96",
   "metadata": {},
   "source": [
    "- header : 열 이름으로 사용될 행의 번호(기본값은 0)"
   ]
  },
  {
   "cell_type": "markdown",
   "id": "67ec311d",
   "metadata": {},
   "source": [
    "- index_col : 행 인덱스로 사용할 열의 번호 또는 열 이름"
   ]
  },
  {
   "cell_type": "markdown",
   "id": "fbed1b8e",
   "metadata": {},
   "source": [
    "- names : 열 이름으로 사용할 문자열의 리스트"
   ]
  },
  {
   "cell_type": "markdown",
   "id": "2e0b4f38",
   "metadata": {},
   "source": [
    "- skiprows : 처음 몇 줄을 skip할 것인지 설정(숫자 입력). skip하려는 행의 번호를 담은 리스트로 설정 가능."
   ]
  },
  {
   "cell_type": "markdown",
   "id": "5ed92b31",
   "metadata": {},
   "source": [
    "- parse_dates : 날짜 텍스트를 datatime64로 변환할 것인지 설정(기본값은 False)"
   ]
  },
  {
   "cell_type": "markdown",
   "id": "634eedb0",
   "metadata": {},
   "source": [
    "- skip_footer : 마지막 몇 줄을 skip할 것인지 설정(숫자 입력)"
   ]
  },
  {
   "cell_type": "markdown",
   "id": "d0635097",
   "metadata": {},
   "source": [
    "- encoding : 텍스트 인코딩 종류를 지정"
   ]
  },
  {
   "cell_type": "markdown",
   "id": "b24fbc65",
   "metadata": {},
   "source": [
    "###### Excel 파일 -> 데이터프레임 : pandas.read_excel('파일 경로(이름)')"
   ]
  },
  {
   "cell_type": "code",
   "execution_count": 10,
   "id": "8a610848",
   "metadata": {},
   "outputs": [
    {
     "name": "stdout",
     "output_type": "stream",
     "text": [
      "  전력량 (억㎾h) 발전 전력별  1990  1991  1992  1993  1994  1995  1996  1997  ...  2007  \\\n",
      "0        남한     합계  1077  1186  1310  1444  1650  1847  2055  2244  ...  4031   \n",
      "1       NaN     수력    64    51    49    60    41    55    52    54  ...    50   \n",
      "2       NaN     화력   484   573   696   803  1022  1122  1264  1420  ...  2551   \n",
      "3       NaN    원자력   529   563   565   581   587   670   739   771  ...  1429   \n",
      "4       NaN    신재생     -     -     -     -     -     -     -     -  ...     -   \n",
      "5        북한     합계   277   263   247   221   231   230   213   193  ...   236   \n",
      "6       NaN     수력   156   150   142   133   138   142   125   107  ...   133   \n",
      "7       NaN     화력   121   113   105    88    93    88    88    86  ...   103   \n",
      "8       NaN    원자력     -     -     -     -     -     -     -     -  ...     -   \n",
      "\n",
      "   2008  2009  2010  2011  2012  2013  2014  2015  2016  \n",
      "0  4224  4336  4747  4969  5096  5171  5220  5281  5404  \n",
      "1    56    56    65    78    77    84    78    58    66  \n",
      "2  2658  2802  3196  3343  3430  3581  3427  3402  3523  \n",
      "3  1510  1478  1486  1547  1503  1388  1564  1648  1620  \n",
      "4     -     -     -     -    86   118   151   173   195  \n",
      "5   255   235   237   211   215   221   216   190   239  \n",
      "6   141   125   134   132   135   139   130   100   128  \n",
      "7   114   110   103    79    80    82    86    90   111  \n",
      "8     -     -     -     -     -     -     -     -     -  \n",
      "\n",
      "[9 rows x 29 columns]\n",
      "\n",
      "\n",
      "          0       1     2     3     4     5     6     7     8     9   ...  \\\n",
      "0  전력량 (억㎾h)  발전 전력별  1990  1991  1992  1993  1994  1995  1996  1997  ...   \n",
      "1         남한      합계  1077  1186  1310  1444  1650  1847  2055  2244  ...   \n",
      "2        NaN      수력    64    51    49    60    41    55    52    54  ...   \n",
      "3        NaN      화력   484   573   696   803  1022  1122  1264  1420  ...   \n",
      "4        NaN     원자력   529   563   565   581   587   670   739   771  ...   \n",
      "5        NaN     신재생     -     -     -     -     -     -     -     -  ...   \n",
      "6         북한      합계   277   263   247   221   231   230   213   193  ...   \n",
      "7        NaN      수력   156   150   142   133   138   142   125   107  ...   \n",
      "8        NaN      화력   121   113   105    88    93    88    88    86  ...   \n",
      "9        NaN     원자력     -     -     -     -     -     -     -     -  ...   \n",
      "\n",
      "     19    20    21    22    23    24    25    26    27    28  \n",
      "0  2007  2008  2009  2010  2011  2012  2013  2014  2015  2016  \n",
      "1  4031  4224  4336  4747  4969  5096  5171  5220  5281  5404  \n",
      "2    50    56    56    65    78    77    84    78    58    66  \n",
      "3  2551  2658  2802  3196  3343  3430  3581  3427  3402  3523  \n",
      "4  1429  1510  1478  1486  1547  1503  1388  1564  1648  1620  \n",
      "5     -     -     -     -     -    86   118   151   173   195  \n",
      "6   236   255   235   237   211   215   221   216   190   239  \n",
      "7   133   141   125   134   132   135   139   130   100   128  \n",
      "8   103   114   110   103    79    80    82    86    90   111  \n",
      "9     -     -     -     -     -     -     -     -     -     -  \n",
      "\n",
      "[10 rows x 29 columns]\n"
     ]
    }
   ],
   "source": [
    "import pandas as pd\n",
    "\n",
    "# read_excel() 함수로 데이터프레임 변환\n",
    "df1 = pd.read_excel('C:\\\\Users\\\\광운MOOC센터\\\\Desktop\\\\05000266\\\\part2\\\\남북한발전전력량.xlsx')\n",
    "df2 = pd.read_excel('C:\\\\Users\\\\광운MOOC센터\\\\Desktop\\\\05000266\\\\part2\\\\남북한발전전력량.xlsx', header=None)\n",
    "\n",
    "# 데이터프레임 출력\n",
    "print(df1)\n",
    "print('\\n')\n",
    "print(df2)"
   ]
  },
  {
   "cell_type": "markdown",
   "id": "abddd84b",
   "metadata": {},
   "source": [
    "###### json 파일 -> 데이터프레임 : pandas.read_csv('파일 경로(이름)')"
   ]
  },
  {
   "cell_type": "code",
   "execution_count": 11,
   "id": "b6103a07",
   "metadata": {},
   "outputs": [
    {
     "name": "stdout",
     "output_type": "stream",
     "text": [
      "           name  year        developer opensource\n",
      "pandas           2008    Wes Mckinneye       True\n",
      "NumPy            2006  Travis Oliphant       True\n",
      "matplotlib       2003   John D. Hunter       True\n",
      "\n",
      "\n",
      "Index(['pandas', 'NumPy', 'matplotlib'], dtype='object')\n"
     ]
    }
   ],
   "source": [
    "import pandas as pd\n",
    "\n",
    "df = pd.read_json('C:\\\\Users\\\\광운MOOC센터\\\\Desktop\\\\05000266\\\\part2\\\\read_json_sample.json')\n",
    "print(df)\n",
    "print('\\n')\n",
    "print(df.index)"
   ]
  },
  {
   "cell_type": "markdown",
   "id": "188a5565",
   "metadata": {},
   "source": [
    "#### 웹에서 가져오기"
   ]
  },
  {
   "cell_type": "markdown",
   "id": "04c7bdda",
   "metadata": {},
   "source": [
    "- HTML 표 속성 읽기 : pandas.read_html(\"웹 주소(URL)\" 또는 \"HTML 파일 경로 (이름)\")"
   ]
  },
  {
   "cell_type": "code",
   "execution_count": 12,
   "id": "a27564fd",
   "metadata": {},
   "outputs": [
    {
     "name": "stdout",
     "output_type": "stream",
     "text": [
      "2\n",
      "\n",
      "\n",
      "tables[0]\n",
      "   Unnamed: 0  c0  c1  c2  c3\n",
      "0           0   0   1   4   7\n",
      "1           1   1   2   5   8\n",
      "2           2   2   3   6   9\n",
      "\n",
      "\n",
      "tables[1]\n",
      "         name  year        developer  opensource\n",
      "0       NumPy  2006  Travis Oliphant        True\n",
      "1  matplotlib  2003   John D. Hunter        True\n",
      "2      pandas  2008    Wes Mckinneye        True\n",
      "\n",
      "\n",
      "            year        developer  opensource\n",
      "name                                         \n",
      "NumPy       2006  Travis Oliphant        True\n",
      "matplotlib  2003   John D. Hunter        True\n",
      "pandas      2008    Wes Mckinneye        True\n"
     ]
    }
   ],
   "source": [
    "import pandas as pd\n",
    "\n",
    "# HTML 파일 경로 or 웹 페이지 주소를 url 변수에 저장\n",
    "url = 'C:\\\\Users\\\\광운MOOC센터\\\\Desktop\\\\05000266\\\\part2\\\\sample.html'\n",
    "\n",
    "# HTML 웹페이지의 표(table)를 가져와서 데이터프레임으로 변환\n",
    "tables = pd.read_html(url)\n",
    "\n",
    "# 표의 개수 확인\n",
    "print(len(tables))\n",
    "print('\\n')\n",
    "\n",
    "# tables 리스트의 원소를 iteration하면서 각각 화면 출력\n",
    "for i in range(len(tables)):\n",
    "    print('tables[%s]' %i)\n",
    "    print(tables[i])\n",
    "    print('\\n')\n",
    "    \n",
    "# 파이썬 패키지 정보가 들어 있는 두 번째 데이터프레임을 선택하여 df 변수에 저장\n",
    "df = tables[1]\n",
    "\n",
    "df.set_index(['name'], inplace=True)\n",
    "print(df)"
   ]
  },
  {
   "cell_type": "code",
   "execution_count": 13,
   "id": "b5bbe989",
   "metadata": {},
   "outputs": [
    {
     "name": "stdout",
     "output_type": "stream",
     "text": [
      "{}\n",
      "\n",
      "\n",
      "Empty DataFrame\n",
      "Columns: []\n",
      "Index: []\n"
     ]
    }
   ],
   "source": [
    "# 라이브러리 불러오기\n",
    "from bs4 import BeautifulSoup\n",
    "import requests\n",
    "import re\n",
    "import pandas as pd\n",
    "\n",
    "# 위키피디아 미국 ETF 웹 페이지에서 필요한 정보를 스크래핑하여 딕셔너리 형태로 변수 etfs에 저장\n",
    "url = \"https://en.wikipedia.org/wiki/List_of_American_exchange-traded_funds\"\n",
    "resp = requests.get(url)\n",
    "soup = BeautifulSoup(resp.text, 'lxml')\n",
    "rows = soup.select('div > ul > li')\n",
    "\n",
    "etfs = {}\n",
    "for row in rows:\n",
    "    \n",
    "    try:\n",
    "        etf_name = re.findall('^(.*) \\(NYSE', row.text)\n",
    "        etf_market = re.findall('\\((.*)\\|', row.text)\n",
    "        etf_ticker = re.findall('NYSE Arca\\|(.*)\\)', row.text)\n",
    "        \n",
    "        if (len(etf_ticker) > 0) & (len(etf_market) > 0) & (len(etf_name) > 0):\n",
    "            etfs[etf_ticker[0]] = [etf_market[0], etf_name[0]]\n",
    "            \n",
    "    except AttributeError as err:\n",
    "        pass\n",
    "    \n",
    "# dtfs 딕셔너리 출력\n",
    "print(etfs)\n",
    "print('\\n')\n",
    "\n",
    "# etfs 딕셔너리를 데이터프레임으로 변환\n",
    "df = pd.DataFrame(etfs)\n",
    "print(df)"
   ]
  },
  {
   "cell_type": "code",
   "execution_count": 15,
   "id": "fb4ffb30",
   "metadata": {},
   "outputs": [],
   "source": [
    "# google 지오코딩 API를 통해 위도, 경도 데이터 가져오기\n",
    "\n",
    "# 라이브러리 가져오기\n",
    "import googlemaps\n",
    "import pandas as pd\n",
    "\n",
    "# my_key = \n",
    "\n",
    "# 유료라 안 함.."
   ]
  },
  {
   "cell_type": "markdown",
   "id": "e7850354",
   "metadata": {},
   "source": [
    "#### 데이터 저장하기"
   ]
  },
  {
   "cell_type": "markdown",
   "id": "90e1ea6a",
   "metadata": {},
   "source": [
    "###### CSV 파일로 저장 : DataFrame객체.to_csv('파일 이름(경로)')"
   ]
  },
  {
   "cell_type": "code",
   "execution_count": 16,
   "id": "31c285e3",
   "metadata": {},
   "outputs": [
    {
     "data": {
      "text/plain": [
       "'C:\\\\Users\\\\광운MOOC센터\\\\2022 Python Machine_Learning Pandas Data_analysis'"
      ]
     },
     "execution_count": 16,
     "metadata": {},
     "output_type": "execute_result"
    }
   ],
   "source": [
    "import os\n",
    "os.getcwd()"
   ]
  },
  {
   "cell_type": "code",
   "execution_count": 18,
   "id": "86094738",
   "metadata": {},
   "outputs": [
    {
     "name": "stdout",
     "output_type": "stream",
     "text": [
      "      algol basic C++\n",
      "name                 \n",
      "Jerry     A     C  B+\n",
      "Riah     A+     B   C\n",
      "Paul      B     B  C+\n"
     ]
    }
   ],
   "source": [
    "import pandas as pd\n",
    "\n",
    "# 판다스 DataFrame() 함수로 데이터프레임 변환. 변수 df에 저장\n",
    "data = {'name':['Jerry','Riah','Paul'],\n",
    "       'algol':['A','A+','B'],\n",
    "       'basic':['C','B','B'],\n",
    "       'C++':['B+','C','C+']}\n",
    "\n",
    "df = pd.DataFrame(data)\n",
    "df.set_index(['name'], inplace=True)\n",
    "print(df)\n",
    "\n",
    "# to_csv() 메소드를 사용하여 csv파일로 내보내기. 파일명은 df_sample.csv로 저장\n",
    "df.to_csv('df_sample.csv')"
   ]
  },
  {
   "cell_type": "markdown",
   "id": "1f5c35a2",
   "metadata": {},
   "source": [
    "###### json 파일로 저장 : DataFrame객체.to_json('파일 이름(경로)')"
   ]
  },
  {
   "cell_type": "code",
   "execution_count": 19,
   "id": "5a93c948",
   "metadata": {},
   "outputs": [
    {
     "name": "stdout",
     "output_type": "stream",
     "text": [
      "      algol basic C++\n",
      "name                 \n",
      "Jerry     A     C  B+\n",
      "Riah     A+     B   C\n",
      "Paul      B     B  C+\n"
     ]
    }
   ],
   "source": [
    "import pandas as pd\n",
    "\n",
    "# 판다스 DataFrame() 함수로 데이터프레임 변환. 변수 df에 저장\n",
    "data = {'name':['Jerry','Riah','Paul'],\n",
    "       'algol':['A','A+','B'],\n",
    "       'basic':['C','B','B'],\n",
    "       'C++':['B+','C','C+']}\n",
    "\n",
    "df = pd.DataFrame(data)\n",
    "df.set_index('name', inplace=True)  # name 열을 인덱스로 지정\n",
    "print(df)\n",
    "\n",
    "df.to_json('df_sample.json')"
   ]
  },
  {
   "cell_type": "code",
   "execution_count": 20,
   "id": "185d9177",
   "metadata": {},
   "outputs": [
    {
     "name": "stdout",
     "output_type": "stream",
     "text": [
      "      algol basic C++\n",
      "name                 \n",
      "Jerry     A     C  B+\n",
      "Riah     A+     B   C\n",
      "Paul      B     B  C+\n"
     ]
    }
   ],
   "source": [
    "import pandas as pd\n",
    "\n",
    "# 판다스 DataFrame() 함수로 데이터프레임 변환. 변수 df에 저장\n",
    "data = {'name':['Jerry','Riah','Paul'],\n",
    "       'algol':['A','A+','B'],\n",
    "       'basic':['C','B','B'],\n",
    "       'C++':['B+','C','C+']}\n",
    "\n",
    "df = pd.DataFrame(data)\n",
    "df.set_index('name', inplace=True)  # name 열을 인덱스로 지정\n",
    "print(df)\n",
    "\n",
    "df.to_excel('df_sample.xlsx')"
   ]
  },
  {
   "cell_type": "code",
   "execution_count": 21,
   "id": "7f0755b9",
   "metadata": {},
   "outputs": [
    {
     "name": "stdout",
     "output_type": "stream",
     "text": [
      "      algol basic C++\n",
      "name                 \n",
      "Jerry     A     C  B+\n",
      "Riah     A+     B   C\n",
      "Paul      B     B  C+\n",
      "\n",
      "\n",
      "    c1  c2  c3  c4\n",
      "c0                \n",
      "1    4   7  10  13\n",
      "2    5   8  11  14\n",
      "3    6   9  12  15\n"
     ]
    }
   ],
   "source": [
    "import pandas as pd\n",
    "\n",
    "# 판다스 DataFrame() 함수로 데이터프레임 변환. 변수 df에 저장\n",
    "data1 = {'name':['Jerry','Riah','Paul'],\n",
    "       'algol':['A','A+','B'],\n",
    "       'basic':['C','B','B'],\n",
    "       'C++':['B+','C','C+']}\n",
    "\n",
    "data2 = {'c0':[1,2,3],\n",
    "        'c1':[4,5,6],\n",
    "        'c2':[7,8,9],\n",
    "        'c3':[10,11,12],\n",
    "        'c4':[13,14,15]}\n",
    "\n",
    "df1 = pd.DataFrame(data1)\n",
    "df1.set_index('name', inplace=True)\n",
    "print(df1)\n",
    "print('\\n')\n",
    "\n",
    "df2 = pd.DataFrame(data2)\n",
    "df2.set_index('c0', inplace=True)\n",
    "print(df2)\n",
    "\n",
    "writer = pd.ExcelWriter('df_excelwriter.xlsx')\n",
    "df1.to_excel(writer, sheet_name='sheet1')\n",
    "df2.to_excel(writer, sheet_name='sheet2')\n",
    "writer.save()"
   ]
  },
  {
   "cell_type": "code",
   "execution_count": null,
   "id": "8ad59577",
   "metadata": {},
   "outputs": [],
   "source": []
  }
 ],
 "metadata": {
  "kernelspec": {
   "display_name": "Python 3 (ipykernel)",
   "language": "python",
   "name": "python3"
  },
  "language_info": {
   "codemirror_mode": {
    "name": "ipython",
    "version": 3
   },
   "file_extension": ".py",
   "mimetype": "text/x-python",
   "name": "python",
   "nbconvert_exporter": "python",
   "pygments_lexer": "ipython3",
   "version": "3.9.12"
  }
 },
 "nbformat": 4,
 "nbformat_minor": 5
}
